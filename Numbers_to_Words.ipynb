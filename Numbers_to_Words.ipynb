{
  "nbformat": 4,
  "nbformat_minor": 0,
  "metadata": {
    "colab": {
      "name": "Numbers to Words.ipynb",
      "provenance": [],
      "mount_file_id": "1nYXcbPU-sj0cQP2mcgMq4fmhV2DNZigB",
      "authorship_tag": "ABX9TyPFZKIf7J2oN0I8dR7VZwch",
      "include_colab_link": true
    },
    "kernelspec": {
      "name": "python3",
      "display_name": "Python 3"
    }
  },
  "cells": [
    {
      "cell_type": "markdown",
      "metadata": {
        "id": "view-in-github",
        "colab_type": "text"
      },
      "source": [
        "<a href=\"https://colab.research.google.com/github/amithm92/Neural-Persona-based-Conversation-Model-Python-Version/blob/master/Numbers_to_Words.ipynb\" target=\"_parent\"><img src=\"https://colab.research.google.com/assets/colab-badge.svg\" alt=\"Open In Colab\"/></a>"
      ]
    },
    {
      "cell_type": "code",
      "metadata": {
        "id": "qbIypawsY51r",
        "colab_type": "code",
        "colab": {}
      },
      "source": [
        "import torch\n",
        "import torch.nn as nn\n",
        "import numpy as np"
      ],
      "execution_count": 0,
      "outputs": []
    },
    {
      "cell_type": "markdown",
      "metadata": {
        "id": "TODOtJqCfOzU",
        "colab_type": "text"
      },
      "source": [
        "**Loading Github**"
      ]
    },
    {
      "cell_type": "code",
      "metadata": {
        "id": "3b4JRQEITllu",
        "colab_type": "code",
        "colab": {
          "base_uri": "https://localhost:8080/",
          "height": 140
        },
        "outputId": "24c42754-4989-484d-c7aa-92695e595b50"
      },
      "source": [
        "!rm -r /content/Neural-Persona-based-Conversation-Model-Python-Version\n",
        "!git clone https://github.com/amithm92/Neural-Persona-based-Conversation-Model-Python-Version.git"
      ],
      "execution_count": 2,
      "outputs": [
        {
          "output_type": "stream",
          "text": [
            "Cloning into 'Neural-Persona-based-Conversation-Model-Python-Version'...\n",
            "remote: Enumerating objects: 150, done.\u001b[K\n",
            "remote: Counting objects: 100% (150/150), done.\u001b[K\n",
            "remote: Compressing objects: 100% (150/150), done.\u001b[K\n",
            "remote: Total 374 (delta 91), reused 0 (delta 0), pack-reused 224\u001b[K\n",
            "Receiving objects: 100% (374/374), 207.62 KiB | 569.00 KiB/s, done.\n",
            "Resolving deltas: 100% (224/224), done.\n"
          ],
          "name": "stdout"
        }
      ]
    },
    {
      "cell_type": "markdown",
      "metadata": {
        "id": "0YUHR5wFrxmq",
        "colab_type": "text"
      },
      "source": [
        "**IndexToWord**"
      ]
    },
    {
      "cell_type": "code",
      "metadata": {
        "id": "LoXaI6QjUK0q",
        "colab_type": "code",
        "colab": {}
      },
      "source": [
        "def IndexToWord(vector):\n",
        "  dict1={}\n",
        "  dict_path = \"/content/Neural-Persona-based-Conversation-Model-Python-Version/data/testing/vocabulary\"\n",
        "  \n",
        "  dictionary=open(dict_path,\"r\").readlines()        #data/testing/vocabulary\n",
        "\n",
        "  for index in range(len(dictionary)):        # Dictionary is 0-indexed\n",
        "      line=dictionary[index].strip()\n",
        "      dict1[index]=line\n",
        "  \n",
        "  if vector.dim()==0:\n",
        "    vector=vector.view(1)\n",
        "  string=\"\"\n",
        "  \n",
        "  for i in range(vector.size(0)):\n",
        "    try:\n",
        "      string=string+dict1[int(vector[i])]+\" \"\n",
        "    except KeyError: \n",
        "      string=string+str(int(vector[i]))+\" \"\n",
        "  \n",
        "  string=string.strip()\n",
        "  return string"
      ],
      "execution_count": 0,
      "outputs": []
    },
    {
      "cell_type": "code",
      "metadata": {
        "id": "hWXsI8eJbRg0",
        "colab_type": "code",
        "colab": {}
      },
      "source": [
        "# returns tensor, which consists of numbers which are encodings of words (using vocabulary)\n",
        "def spl(strs):\n",
        "  splited = strs.split(\" \")       #creating list of words\n",
        "  tensor = torch.Tensor(1,len(splited)).fill_(0)\n",
        "  count=0\n",
        "  for i in range(len(splited)):       #looping through number of words in list\n",
        "    if splited[i]!=\"\":\n",
        "      tensor[0][count]=int(splited[i])-1      # -1 since dictionary is 0-indexed\n",
        "      count=count+1\n",
        "  return tensor"
      ],
      "execution_count": 0,
      "outputs": []
    },
    {
      "cell_type": "markdown",
      "metadata": {
        "id": "8eQyWb0OciIV",
        "colab_type": "text"
      },
      "source": [
        "**Reading the input file**"
      ]
    },
    {
      "cell_type": "code",
      "metadata": {
        "id": "ITBUdDI2ZjQA",
        "colab_type": "code",
        "colab": {}
      },
      "source": [
        "def print_lines(lines):\n",
        "  for line in lines:\n",
        "    two_strings = line.split('|')\n",
        "    space=two_strings[0].index(\" \")     #int: index of first space in first string\n",
        "    addressee_line=two_strings[0][space+1:]     #string: capturing only line of first string\n",
        "    space = two_strings[1].index(\" \")\n",
        "    speaker_line=two_strings[1][space+1:]\n",
        "\n",
        "    addressee_line = spl(addressee_line.strip())[0]\n",
        "    speaker_line = spl(speaker_line.strip())[0]\n",
        "\n",
        "    print(IndexToWord(addressee_line),\"----\",IndexToWord(speaker_line))"
      ],
      "execution_count": 0,
      "outputs": []
    },
    {
      "cell_type": "code",
      "metadata": {
        "id": "TuULAZvdjDkU",
        "colab_type": "code",
        "colab": {}
      },
      "source": [
        "def print_lines_1(lines):\n",
        "  for line in lines:\n",
        "    two_strings = line.split('|')\n",
        "    space=two_strings[0].index(\" \")     #int: index of first space in first string\n",
        "    addressee_line=two_strings[0][0:]     #string: capturing only line of first string\n",
        "    space = two_strings[1].index(\" \")\n",
        "    speaker_line=two_strings[1][0:]\n",
        "\n",
        "    addressee_line = spl(addressee_line.strip())[0]\n",
        "    speaker_line = spl(speaker_line.strip())[0]\n",
        "\n",
        "    print(IndexToWord(addressee_line),\"----\",IndexToWord(speaker_line))"
      ],
      "execution_count": 0,
      "outputs": []
    },
    {
      "cell_type": "markdown",
      "metadata": {
        "id": "OPS_GglXsCw0",
        "colab_type": "text"
      },
      "source": [
        "**Choose File**"
      ]
    },
    {
      "cell_type": "code",
      "metadata": {
        "id": "tXACfb34Tu6s",
        "colab_type": "code",
        "colab": {}
      },
      "source": [
        "lines = []\n",
        "with open(\"/content/drive/My Drive/Data/OpenSubData/t_given_s_dialogue_length3_6.txt\") as myfile:\n",
        "  i = 0\n",
        "  for line in myfile:\n",
        "    lines.append(line)\n",
        "    i = i+1\n",
        "    if i==30:\n",
        "      break"
      ],
      "execution_count": 0,
      "outputs": []
    },
    {
      "cell_type": "code",
      "metadata": {
        "id": "B_GWb52Ify17",
        "colab_type": "code",
        "colab": {
          "base_uri": "https://localhost:8080/",
          "height": 545
        },
        "outputId": "7219485f-46e2-4f4a-e9ac-5b9e88f32e49"
      },
      "source": [
        "print_lines(lines)"
      ],
      "execution_count": 11,
      "outputs": [
        {
          "output_type": "stream",
          "text": [
            "will now let the people outside ---- we confirm the virus is real or not you must not let a single person outside !\n",
            "fire brigade has arrived ---- safety 's special third division 's UNknown\n",
            "safety 's special third division 's UNknown ---- virus like has been spread in this mall\n",
            "virus like has been spread in this mall ---- 's a possible terrorist attack\n",
            "everything to the last bit ---- result confirm the analysis result\n",
            "have a UNknown from the state control room ---- possible virus infection occurred inside the mall so they made the following decision\n",
            "a second chief ! ---- is an order UNknown !\n",
            "don 't want to do this either ! ---- tokyo will vanish just like UNknown in russia\n",
            "tokyo will vanish just like UNknown in russia ---- won 't let that happen\n",
            "won 't let that happen ---- won 't give up till the last minute !\n",
            "'s not your fault ---- directly attacked the UNknown UNknown to cause this blackout\n",
            "and i have only a few more hours to live ---- are the people outside doing ?\n",
            "who goes out will be shot ---- even one person in here gets out he UNknown l be the source of infection and will be responsible for millions of people 's deaths\n",
            "one dressed like a clown who left the balloons ---- why didn 't you tell me earlier ?\n",
            "culprit who did this might be somewhere in the building ---- one dressed like a clown\n",
            "one dressed like a clown ---- 's search for him !\n",
            "is in our hands ---- there someone you want to kill ?\n",
            "there someone you want to kill ? ---- mall had an explosion or UNknown gas uproar\n",
            "mall had an explosion or UNknown gas uproar ---- out to be a prank the police are stupid\n",
            "is a free UNknown ---- not UNknown in any UNknown UNknown\n",
            "not UNknown in any UNknown UNknown ---- it free at d addicts com\n",
            "is a free UNknown ---- not UNknown in any UNknown UNknown get it free at d addicts com\n",
            "is a free UNknown ---- not UNknown in any UNknown UNknown get it free at d addicts com\n",
            "enemy completed the rehearsal ---- that had been the real thing and there had been an infection\n",
            "the shopping mall had an explosion or UNknown gas uproar ---- to out to be a prank the police are stupid\n",
            "you ve just UNknown the switch for a bomb ---- you want to stop it hack into UNknown i and completely UNknown the copy of the christmas massacre data file\n",
            "re protecting this country ---- into UNknown i is real UNknown\n",
            "re not eating much are you ? ---- t you eat a bit more ?\n",
            "t you eat a bit more ? ---- are my examination results ?\n",
            "will ask the doctor ---- you lend me a computer ?\n"
          ],
          "name": "stdout"
        }
      ]
    },
    {
      "cell_type": "code",
      "metadata": {
        "id": "nw6kdpalgXjI",
        "colab_type": "code",
        "colab": {
          "base_uri": "https://localhost:8080/",
          "height": 545
        },
        "outputId": "e3cf5c21-957c-4cfa-c534-b5bb85a04223"
      },
      "source": [
        "print_lines_1(lines)"
      ],
      "execution_count": 12,
      "outputs": [
        {
          "output_type": "stream",
          "text": [
            "i will now let the people outside ---- until we confirm the virus is real or not you must not let a single person outside !\n",
            "the fire brigade has arrived ---- public safety 's special third division 's UNknown\n",
            "public safety 's special third division 's UNknown ---- something virus like has been spread in this mall\n",
            "something virus like has been spread in this mall ---- it 's a possible terrorist attack\n",
            "check everything to the last bit ---- analysis result confirm the analysis result\n",
            "i have a UNknown from the state control room ---- a possible virus infection occurred inside the mall so they made the following decision\n",
            "wait a second chief ! ---- this is an order UNknown !\n",
            "i don 't want to do this either ! ---- but tokyo will vanish just like UNknown in russia\n",
            "but tokyo will vanish just like UNknown in russia ---- we won 't let that happen\n",
            "we won 't let that happen ---- i won 't give up till the last minute !\n",
            "it 's not your fault ---- they directly attacked the UNknown UNknown to cause this blackout\n",
            "you and i have only a few more hours to live ---- what are the people outside doing ?\n",
            "anyone who goes out will be shot ---- if even one person in here gets out he UNknown l be the source of infection and will be responsible for millions of people 's deaths\n",
            "the one dressed like a clown who left the balloons ---- idiot why didn 't you tell me earlier ?\n",
            "the culprit who did this might be somewhere in the building ---- the one dressed like a clown\n",
            "the one dressed like a clown ---- let 's search for him !\n",
            "falcon is in our hands ---- is there someone you want to kill ?\n",
            "is there someone you want to kill ? ---- shopping mall had an explosion or UNknown gas uproar\n",
            "shopping mall had an explosion or UNknown gas uproar ---- turned out to be a prank the police are stupid\n",
            "this is a free UNknown ---- do not UNknown in any UNknown UNknown\n",
            "do not UNknown in any UNknown UNknown ---- get it free at d addicts com\n",
            "this is a free UNknown ---- do not UNknown in any UNknown UNknown get it free at d addicts com\n",
            "this is a free UNknown ---- do not UNknown in any UNknown UNknown get it free at d addicts com\n",
            "our enemy completed the rehearsal ---- if that had been the real thing and there had been an infection\n",
            "earlier the shopping mall had an explosion or UNknown gas uproar ---- turned to out to be a prank the police are stupid\n",
            "congratulations you ve just UNknown the switch for a bomb ---- if you want to stop it hack into UNknown i and completely UNknown the copy of the christmas massacre data file\n",
            "we re protecting this country ---- UNknown into UNknown i is real UNknown\n",
            "you re not eating much are you ? ---- won t you eat a bit more ?\n",
            "won t you eat a bit more ? ---- where are my examination results ?\n",
            "i will ask the doctor ---- could you lend me a computer ?\n"
          ],
          "name": "stdout"
        }
      ]
    },
    {
      "cell_type": "code",
      "metadata": {
        "id": "amUQZcWhjNQ1",
        "colab_type": "code",
        "colab": {}
      },
      "source": [
        ""
      ],
      "execution_count": 0,
      "outputs": []
    }
  ]
}