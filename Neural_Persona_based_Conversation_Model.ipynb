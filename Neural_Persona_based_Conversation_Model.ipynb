{
  "nbformat": 4,
  "nbformat_minor": 0,
  "metadata": {
    "colab": {
      "name": "Neural-Persona-based-Conversation-Model.ipynb",
      "provenance": [],
      "collapsed_sections": [],
      "toc_visible": true,
      "mount_file_id": "1h2Ck6oRRlikXABTsW6Gkq767a6_3vQ3X",
      "authorship_tag": "ABX9TyN4uk4APpR1aSAoBFXPUl8r",
      "include_colab_link": true
    },
    "kernelspec": {
      "name": "python3",
      "display_name": "Python 3"
    },
    "accelerator": "GPU"
  },
  "cells": [
    {
      "cell_type": "markdown",
      "metadata": {
        "id": "view-in-github",
        "colab_type": "text"
      },
      "source": [
        "<a href=\"https://colab.research.google.com/github/amithm92/Neural-Persona-based-Conversation-Model-Python-Version/blob/master/Neural_Persona_based_Conversation_Model.ipynb\" target=\"_parent\"><img src=\"https://colab.research.google.com/assets/colab-badge.svg\" alt=\"Open In Colab\"/></a>"
      ]
    },
    {
      "cell_type": "code",
      "metadata": {
        "id": "gatjp9KDOlm8",
        "colab_type": "code",
        "colab": {}
      },
      "source": [
        "!rm -r /content/Neural-Persona-based-Conversation-Model-Python-Version\n",
        "!git clone https://github.com/amithm92/Neural-Persona-based-Conversation-Model-Python-Version.git"
      ],
      "execution_count": 0,
      "outputs": []
    },
    {
      "cell_type": "code",
      "metadata": {
        "id": "vjUr9BY1O15h",
        "colab_type": "code",
        "colab": {}
      },
      "source": [
        "#cp -a \"/content/drive/My Drive/Data/OpenSubData/.\" /content/Neural-Persona-based-Conversation-Model-Python-Version/data/"
      ],
      "execution_count": 0,
      "outputs": []
    },
    {
      "cell_type": "code",
      "metadata": {
        "id": "tLxbHjiomkuh",
        "colab_type": "code",
        "outputId": "059c719f-02d0-49ce-a9e5-03ba41e0cf06",
        "colab": {
          "base_uri": "https://localhost:8080/",
          "height": 35
        }
      },
      "source": [
        "cd Neural-Persona-based-Conversation-Model-Python-Version/"
      ],
      "execution_count": 0,
      "outputs": [
        {
          "output_type": "stream",
          "text": [
            "/content/Neural-Persona-based-Conversation-Model-Python-Version\n"
          ],
          "name": "stdout"
        }
      ]
    },
    {
      "cell_type": "code",
      "metadata": {
        "id": "pcHHOMHchhX7",
        "colab_type": "code",
        "colab": {}
      },
      "source": [
        "!python /content/Neural-Persona-based-Conversation-Model-Python-Version/train.py"
      ],
      "execution_count": 0,
      "outputs": []
    },
    {
      "cell_type": "code",
      "metadata": {
        "id": "uTb17EnEs3Rf",
        "colab_type": "code",
        "colab": {}
      },
      "source": [
        "!python /content/Neural-Persona-based-Conversation-Model-Python-Version/decode.py"
      ],
      "execution_count": 0,
      "outputs": []
    }
  ]
}